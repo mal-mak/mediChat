{
 "cells": [
  {
   "cell_type": "code",
   "execution_count": null,
   "metadata": {},
   "outputs": [],
   "source": [
    "from langchain_core.documents import Document\n",
    "import os\n",
    "import pandas as pd\n",
    "from google.cloud import storage\n",
    "from medichat.ingest import (\n",
    "    list_files_in_bucket,\n",
    "    download_file_from_bucket,\n",
    "    create_cloud_sql_database_connection,\n",
    "    create_table_if_not_exists,\n",
    "    get_embeddings,\n",
    "    get_vector_store,\n",
    ")\n",
    "from medichat.config import (\n",
    "    TABLE_NAME,\n",
    "    BUCKET_NAME,\n",
    ")"
   ]
  },
  {
   "cell_type": "code",
   "execution_count": null,
   "metadata": {},
   "outputs": [],
   "source": [
    "!gcloud auth login"
   ]
  },
  {
   "cell_type": "code",
   "execution_count": null,
   "metadata": {},
   "outputs": [],
   "source": [
    "# List all files in the 'data' directory\n",
    "client = storage.Client()\n",
    "bucket_name = BUCKET_NAME\n",
    "blobs = list_files_in_bucket(client, bucket_name)\n",
    "print(\"Files in 'medichat-bucket/data':\")\n",
    "for blob in blobs:\n",
    "    print(blob)"
   ]
  },
  {
   "cell_type": "code",
   "execution_count": null,
   "metadata": {},
   "outputs": [],
   "source": [
    "file_path = \"data/medquad.csv\"\n",
    "# Get the blob object\n",
    "bucket = client.get_bucket(bucket_name)\n",
    "blob = bucket.get_blob(file_path)\n",
    "if blob:\n",
    "    print(f\"Information for '{file_path}':\")\n",
    "    print(f\"Size: {blob.size} bytes\")\n",
    "    print(f\"Content Type: {blob.content_type}\")\n",
    "    formatted_updated_on = (blob.updated).strftime(\"%Y-%m-%d %H:%M:%S\")\n",
    "    print(f\"Updated On: {formatted_updated_on}\")\n",
    "    print(f\"Blob name: {blob.name}\")\n",
    "else:\n",
    "    print(f\"File '{file_path}' not found in the bucket.\")"
   ]
  },
  {
   "cell_type": "code",
   "execution_count": null,
   "metadata": {},
   "outputs": [],
   "source": [
    "DOWNLOADED_LOCAL_DIRECTORY = \"./downloaded_files\"\n",
    "os.makedirs(DOWNLOADED_LOCAL_DIRECTORY, exist_ok=True)\n",
    "\n",
    "file_path = \"data/medquad.csv\"\n",
    "local_filepath = download_file_from_bucket(\n",
    "    bucket, file_path, DOWNLOADED_LOCAL_DIRECTORY\n",
    ")"
   ]
  },
  {
   "cell_type": "code",
   "execution_count": null,
   "metadata": {},
   "outputs": [],
   "source": [
    "CSV_FILE_PATH = os.path.join(DOWNLOADED_LOCAL_DIRECTORY, \"medquad.csv\")\n",
    "df = pd.read_csv(CSV_FILE_PATH)"
   ]
  },
  {
   "cell_type": "code",
   "execution_count": null,
   "metadata": {},
   "outputs": [],
   "source": [
    "df[\"answer\"] = df[\"answer\"].fillna(\"No answer provided\")\n",
    "df[\"source\"] = df[\"source\"].fillna(\"Unknown source\")\n",
    "df[\"focus_area\"] = df[\"focus_area\"].fillna(\"Not specified\")\n",
    "\n",
    "assert not df.isnull().values.any(), \"NaN values found in the DataFrame\""
   ]
  },
  {
   "cell_type": "code",
   "execution_count": null,
   "metadata": {},
   "outputs": [],
   "source": [
    "print(df.isnull().sum())"
   ]
  },
  {
   "cell_type": "code",
   "execution_count": null,
   "metadata": {},
   "outputs": [],
   "source": [
    "# CSV lines -> Langchain Documents\n",
    "documents = [\n",
    "    Document(\n",
    "        page_content=row[\"question\"],\n",
    "        metadata={\n",
    "            \"answer\": row[\"answer\"],\n",
    "            \"source\": row[\"source\"],\n",
    "            \"focus_area\": row[\"focus_area\"],\n",
    "        },\n",
    "    )\n",
    "    for _, row in df.iterrows()\n",
    "]\n",
    "print(f\"{len(documents)} Convertions succesful!\")"
   ]
  },
  {
   "cell_type": "code",
   "execution_count": null,
   "metadata": {},
   "outputs": [],
   "source": [
    "# Afficher le premier document\n",
    "print(\"\\nFirst Doc:\")\n",
    "print(documents[0])  # Affiche tout l'objet Document\n",
    "\n",
    "# Afficher uniquement son contenu et ses métadonnées\n",
    "print(\"\\nQuestion :\", documents[0].page_content)\n",
    "print(\"Answer :\", documents[0].metadata[\"answer\"])\n",
    "print(\"Source :\", documents[0].metadata[\"source\"])\n",
    "print(\"Focus Area :\", documents[0].metadata[\"focus_area\"])"
   ]
  },
  {
   "cell_type": "code",
   "execution_count": null,
   "metadata": {},
   "outputs": [],
   "source": [
    "engine = create_cloud_sql_database_connection()\n",
    "create_table_if_not_exists(table_name=TABLE_NAME, engine=engine)"
   ]
  },
  {
   "cell_type": "code",
   "execution_count": null,
   "metadata": {},
   "outputs": [],
   "source": [
    "embeddings = get_embeddings()"
   ]
  },
  {
   "cell_type": "code",
   "execution_count": null,
   "metadata": {},
   "outputs": [],
   "source": [
    "vector_store = get_vector_store(\n",
    "    engine=engine, table_name=TABLE_NAME, embedding=embeddings\n",
    ")\n",
    "\n",
    "# Convertir les documents en embeddings et les stocker dans Cloud SQL (A ne faire qu'une fois !)\n",
    "c = \"\"\"\n",
    "vector_store.add_documents(\n",
    "    [\n",
    "        Document(\n",
    "            page_content=row[\"question\"],\n",
    "            metadata={\n",
    "                \"answer\": row[\"answer\"],\n",
    "                \"source\": row[\"source\"],\n",
    "                \"focus_area\": row[\"focus_area\"],\n",
    "            },\n",
    "        )\n",
    "        for _, row in df.iterrows()\n",
    "    ]\n",
    ")\n",
    "print(\"Les embeddings des questions ont été générés et stockés dans la table !\")\n",
    "\"\"\""
   ]
  },
  {
   "cell_type": "markdown",
   "metadata": {},
   "source": [
    "## Test if it works"
   ]
  },
  {
   "cell_type": "code",
   "execution_count": null,
   "metadata": {},
   "outputs": [],
   "source": [
    "query = \"What is Glaucoma ?\""
   ]
  },
  {
   "cell_type": "code",
   "execution_count": null,
   "metadata": {},
   "outputs": [],
   "source": [
    "retriever = vector_store.as_retriever(\n",
    "    search_type=\"similarity_score_threshold\", search_kwargs={\"score_threshold\": 0.5}\n",
    ")"
   ]
  },
  {
   "cell_type": "code",
   "execution_count": null,
   "metadata": {},
   "outputs": [],
   "source": [
    "docs = retriever.invoke(query)"
   ]
  },
  {
   "cell_type": "code",
   "execution_count": null,
   "metadata": {},
   "outputs": [],
   "source": [
    "# Afficher les résultats\n",
    "if docs:\n",
    "    print(f\"\\n {len(docs)} documents trouvés pour la requête : {query}\")\n",
    "    for i, doc in enumerate(docs):\n",
    "        print(\"-\" * 50)\n",
    "        print(f\" Résultat {i+1} \")\n",
    "        print(\" Question trouvée: \", doc.page_content)\n",
    "        print(\" Réponse:\", doc.metadata[\"answer\"])\n",
    "        print(\" Source:\", doc.metadata[\"source\"])\n",
    "        print(\" Focus Area:\", doc.metadata[\"focus_area\"])\n",
    "else:\n",
    "    print(\"Aucun document pertinent trouvé pour cette requête.\")"
   ]
  },
  {
   "cell_type": "code",
   "execution_count": null,
   "metadata": {},
   "outputs": [],
   "source": []
  }
 ],
 "metadata": {
  "kernelspec": {
   "display_name": "medichat-_a-0e43U-py3.12",
   "language": "python",
   "name": "python3"
  },
  "language_info": {
   "codemirror_mode": {
    "name": "ipython",
    "version": 3
   },
   "file_extension": ".py",
   "mimetype": "text/x-python",
   "name": "python",
   "nbconvert_exporter": "python",
   "pygments_lexer": "ipython3",
   "version": "3.12.7"
  }
 },
 "nbformat": 4,
 "nbformat_minor": 2
}
